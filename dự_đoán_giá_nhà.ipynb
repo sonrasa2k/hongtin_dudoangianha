{
  "nbformat": 4,
  "nbformat_minor": 0,
  "metadata": {
    "colab": {
      "name": "dự đoán giá nhà.ipynb",
      "provenance": [],
      "collapsed_sections": []
    },
    "kernelspec": {
      "name": "python3",
      "display_name": "Python 3"
    }
  },
  "cells": [
    {
      "cell_type": "code",
      "metadata": {
        "id": "q0a40eVrk5wD"
      },
      "source": [
        "import pandas as pd\r\n",
        "data = pd.read_csv(\"https://raw.githubusercontent.com/sonrasa2k/hongtin_dudoangianha/master/Real%20estate.csv\")\r\n",
        "data"
      ],
      "execution_count": 6,
      "outputs": []
    },
    {
      "cell_type": "code",
      "metadata": {
        "colab": {
          "base_uri": "https://localhost:8080/",
          "height": 418
        },
        "id": "tr8FPQRKoHcK",
        "outputId": "6d826456-ecbf-49d2-9e63-df58d09df2b4"
      },
      "source": [
        "data"
      ],
      "execution_count": 7,
      "outputs": [
        {
          "output_type": "execute_result",
          "data": {
            "text/html": [
              "<div>\n",
              "<style scoped>\n",
              "    .dataframe tbody tr th:only-of-type {\n",
              "        vertical-align: middle;\n",
              "    }\n",
              "\n",
              "    .dataframe tbody tr th {\n",
              "        vertical-align: top;\n",
              "    }\n",
              "\n",
              "    .dataframe thead th {\n",
              "        text-align: right;\n",
              "    }\n",
              "</style>\n",
              "<table border=\"1\" class=\"dataframe\">\n",
              "  <thead>\n",
              "    <tr style=\"text-align: right;\">\n",
              "      <th></th>\n",
              "      <th>No</th>\n",
              "      <th>X1 transaction date</th>\n",
              "      <th>X2 house age</th>\n",
              "      <th>X3 distance to the nearest MRT station</th>\n",
              "      <th>X4 number of convenience stores</th>\n",
              "      <th>X5 latitude</th>\n",
              "      <th>X6 longitude</th>\n",
              "      <th>Y house price of unit area</th>\n",
              "    </tr>\n",
              "  </thead>\n",
              "  <tbody>\n",
              "    <tr>\n",
              "      <th>0</th>\n",
              "      <td>1</td>\n",
              "      <td>2012.917</td>\n",
              "      <td>32.0</td>\n",
              "      <td>84.87882</td>\n",
              "      <td>10</td>\n",
              "      <td>24.98298</td>\n",
              "      <td>121.54024</td>\n",
              "      <td>37.9</td>\n",
              "    </tr>\n",
              "    <tr>\n",
              "      <th>1</th>\n",
              "      <td>2</td>\n",
              "      <td>2012.917</td>\n",
              "      <td>19.5</td>\n",
              "      <td>306.59470</td>\n",
              "      <td>9</td>\n",
              "      <td>24.98034</td>\n",
              "      <td>121.53951</td>\n",
              "      <td>42.2</td>\n",
              "    </tr>\n",
              "    <tr>\n",
              "      <th>2</th>\n",
              "      <td>3</td>\n",
              "      <td>2013.583</td>\n",
              "      <td>13.3</td>\n",
              "      <td>561.98450</td>\n",
              "      <td>5</td>\n",
              "      <td>24.98746</td>\n",
              "      <td>121.54391</td>\n",
              "      <td>47.3</td>\n",
              "    </tr>\n",
              "    <tr>\n",
              "      <th>3</th>\n",
              "      <td>4</td>\n",
              "      <td>2013.500</td>\n",
              "      <td>13.3</td>\n",
              "      <td>561.98450</td>\n",
              "      <td>5</td>\n",
              "      <td>24.98746</td>\n",
              "      <td>121.54391</td>\n",
              "      <td>54.8</td>\n",
              "    </tr>\n",
              "    <tr>\n",
              "      <th>4</th>\n",
              "      <td>5</td>\n",
              "      <td>2012.833</td>\n",
              "      <td>5.0</td>\n",
              "      <td>390.56840</td>\n",
              "      <td>5</td>\n",
              "      <td>24.97937</td>\n",
              "      <td>121.54245</td>\n",
              "      <td>43.1</td>\n",
              "    </tr>\n",
              "    <tr>\n",
              "      <th>...</th>\n",
              "      <td>...</td>\n",
              "      <td>...</td>\n",
              "      <td>...</td>\n",
              "      <td>...</td>\n",
              "      <td>...</td>\n",
              "      <td>...</td>\n",
              "      <td>...</td>\n",
              "      <td>...</td>\n",
              "    </tr>\n",
              "    <tr>\n",
              "      <th>409</th>\n",
              "      <td>410</td>\n",
              "      <td>2013.000</td>\n",
              "      <td>13.7</td>\n",
              "      <td>4082.01500</td>\n",
              "      <td>0</td>\n",
              "      <td>24.94155</td>\n",
              "      <td>121.50381</td>\n",
              "      <td>15.4</td>\n",
              "    </tr>\n",
              "    <tr>\n",
              "      <th>410</th>\n",
              "      <td>411</td>\n",
              "      <td>2012.667</td>\n",
              "      <td>5.6</td>\n",
              "      <td>90.45606</td>\n",
              "      <td>9</td>\n",
              "      <td>24.97433</td>\n",
              "      <td>121.54310</td>\n",
              "      <td>50.0</td>\n",
              "    </tr>\n",
              "    <tr>\n",
              "      <th>411</th>\n",
              "      <td>412</td>\n",
              "      <td>2013.250</td>\n",
              "      <td>18.8</td>\n",
              "      <td>390.96960</td>\n",
              "      <td>7</td>\n",
              "      <td>24.97923</td>\n",
              "      <td>121.53986</td>\n",
              "      <td>40.6</td>\n",
              "    </tr>\n",
              "    <tr>\n",
              "      <th>412</th>\n",
              "      <td>413</td>\n",
              "      <td>2013.000</td>\n",
              "      <td>8.1</td>\n",
              "      <td>104.81010</td>\n",
              "      <td>5</td>\n",
              "      <td>24.96674</td>\n",
              "      <td>121.54067</td>\n",
              "      <td>52.5</td>\n",
              "    </tr>\n",
              "    <tr>\n",
              "      <th>413</th>\n",
              "      <td>414</td>\n",
              "      <td>2013.500</td>\n",
              "      <td>6.5</td>\n",
              "      <td>90.45606</td>\n",
              "      <td>9</td>\n",
              "      <td>24.97433</td>\n",
              "      <td>121.54310</td>\n",
              "      <td>63.9</td>\n",
              "    </tr>\n",
              "  </tbody>\n",
              "</table>\n",
              "<p>414 rows × 8 columns</p>\n",
              "</div>"
            ],
            "text/plain": [
              "      No  X1 transaction date  ...  X6 longitude  Y house price of unit area\n",
              "0      1             2012.917  ...     121.54024                        37.9\n",
              "1      2             2012.917  ...     121.53951                        42.2\n",
              "2      3             2013.583  ...     121.54391                        47.3\n",
              "3      4             2013.500  ...     121.54391                        54.8\n",
              "4      5             2012.833  ...     121.54245                        43.1\n",
              "..   ...                  ...  ...           ...                         ...\n",
              "409  410             2013.000  ...     121.50381                        15.4\n",
              "410  411             2012.667  ...     121.54310                        50.0\n",
              "411  412             2013.250  ...     121.53986                        40.6\n",
              "412  413             2013.000  ...     121.54067                        52.5\n",
              "413  414             2013.500  ...     121.54310                        63.9\n",
              "\n",
              "[414 rows x 8 columns]"
            ]
          },
          "metadata": {
            "tags": []
          },
          "execution_count": 7
        }
      ]
    },
    {
      "cell_type": "code",
      "metadata": {
        "colab": {
          "base_uri": "https://localhost:8080/",
          "height": 321
        },
        "id": "IKKuRzBaqild",
        "outputId": "7ec9b9ed-5d52-4619-fdf4-c9c8eff0b74e"
      },
      "source": [
        "data.describe()"
      ],
      "execution_count": 10,
      "outputs": [
        {
          "output_type": "execute_result",
          "data": {
            "text/html": [
              "<div>\n",
              "<style scoped>\n",
              "    .dataframe tbody tr th:only-of-type {\n",
              "        vertical-align: middle;\n",
              "    }\n",
              "\n",
              "    .dataframe tbody tr th {\n",
              "        vertical-align: top;\n",
              "    }\n",
              "\n",
              "    .dataframe thead th {\n",
              "        text-align: right;\n",
              "    }\n",
              "</style>\n",
              "<table border=\"1\" class=\"dataframe\">\n",
              "  <thead>\n",
              "    <tr style=\"text-align: right;\">\n",
              "      <th></th>\n",
              "      <th>No</th>\n",
              "      <th>X1 transaction date</th>\n",
              "      <th>X2 house age</th>\n",
              "      <th>X3 distance to the nearest MRT station</th>\n",
              "      <th>X4 number of convenience stores</th>\n",
              "      <th>X5 latitude</th>\n",
              "      <th>X6 longitude</th>\n",
              "      <th>Y house price of unit area</th>\n",
              "    </tr>\n",
              "  </thead>\n",
              "  <tbody>\n",
              "    <tr>\n",
              "      <th>count</th>\n",
              "      <td>414.000000</td>\n",
              "      <td>414.000000</td>\n",
              "      <td>414.000000</td>\n",
              "      <td>414.000000</td>\n",
              "      <td>414.000000</td>\n",
              "      <td>414.000000</td>\n",
              "      <td>414.000000</td>\n",
              "      <td>414.000000</td>\n",
              "    </tr>\n",
              "    <tr>\n",
              "      <th>mean</th>\n",
              "      <td>207.500000</td>\n",
              "      <td>2013.148971</td>\n",
              "      <td>17.712560</td>\n",
              "      <td>1083.885689</td>\n",
              "      <td>4.094203</td>\n",
              "      <td>24.969030</td>\n",
              "      <td>121.533361</td>\n",
              "      <td>37.980193</td>\n",
              "    </tr>\n",
              "    <tr>\n",
              "      <th>std</th>\n",
              "      <td>119.655756</td>\n",
              "      <td>0.281967</td>\n",
              "      <td>11.392485</td>\n",
              "      <td>1262.109595</td>\n",
              "      <td>2.945562</td>\n",
              "      <td>0.012410</td>\n",
              "      <td>0.015347</td>\n",
              "      <td>13.606488</td>\n",
              "    </tr>\n",
              "    <tr>\n",
              "      <th>min</th>\n",
              "      <td>1.000000</td>\n",
              "      <td>2012.667000</td>\n",
              "      <td>0.000000</td>\n",
              "      <td>23.382840</td>\n",
              "      <td>0.000000</td>\n",
              "      <td>24.932070</td>\n",
              "      <td>121.473530</td>\n",
              "      <td>7.600000</td>\n",
              "    </tr>\n",
              "    <tr>\n",
              "      <th>25%</th>\n",
              "      <td>104.250000</td>\n",
              "      <td>2012.917000</td>\n",
              "      <td>9.025000</td>\n",
              "      <td>289.324800</td>\n",
              "      <td>1.000000</td>\n",
              "      <td>24.963000</td>\n",
              "      <td>121.528085</td>\n",
              "      <td>27.700000</td>\n",
              "    </tr>\n",
              "    <tr>\n",
              "      <th>50%</th>\n",
              "      <td>207.500000</td>\n",
              "      <td>2013.167000</td>\n",
              "      <td>16.100000</td>\n",
              "      <td>492.231300</td>\n",
              "      <td>4.000000</td>\n",
              "      <td>24.971100</td>\n",
              "      <td>121.538630</td>\n",
              "      <td>38.450000</td>\n",
              "    </tr>\n",
              "    <tr>\n",
              "      <th>75%</th>\n",
              "      <td>310.750000</td>\n",
              "      <td>2013.417000</td>\n",
              "      <td>28.150000</td>\n",
              "      <td>1454.279000</td>\n",
              "      <td>6.000000</td>\n",
              "      <td>24.977455</td>\n",
              "      <td>121.543305</td>\n",
              "      <td>46.600000</td>\n",
              "    </tr>\n",
              "    <tr>\n",
              "      <th>max</th>\n",
              "      <td>414.000000</td>\n",
              "      <td>2013.583000</td>\n",
              "      <td>43.800000</td>\n",
              "      <td>6488.021000</td>\n",
              "      <td>10.000000</td>\n",
              "      <td>25.014590</td>\n",
              "      <td>121.566270</td>\n",
              "      <td>117.500000</td>\n",
              "    </tr>\n",
              "  </tbody>\n",
              "</table>\n",
              "</div>"
            ],
            "text/plain": [
              "               No  ...  Y house price of unit area\n",
              "count  414.000000  ...                  414.000000\n",
              "mean   207.500000  ...                   37.980193\n",
              "std    119.655756  ...                   13.606488\n",
              "min      1.000000  ...                    7.600000\n",
              "25%    104.250000  ...                   27.700000\n",
              "50%    207.500000  ...                   38.450000\n",
              "75%    310.750000  ...                   46.600000\n",
              "max    414.000000  ...                  117.500000\n",
              "\n",
              "[8 rows x 8 columns]"
            ]
          },
          "metadata": {
            "tags": []
          },
          "execution_count": 10
        }
      ]
    },
    {
      "cell_type": "code",
      "metadata": {
        "colab": {
          "base_uri": "https://localhost:8080/",
          "height": 282
        },
        "id": "dRH7WR1ZqDVA",
        "outputId": "cbeda794-878e-4717-ffad-88a039aa658a"
      },
      "source": [
        "import matplotlib.pyplot as plt\r\n",
        "x = data[\"No\"]\r\n",
        "y = data[['Y house price of unit area']]\r\n",
        "plt.plot(x,y,'go')"
      ],
      "execution_count": 27,
      "outputs": [
        {
          "output_type": "execute_result",
          "data": {
            "text/plain": [
              "[<matplotlib.lines.Line2D at 0x7f3a2f2027b8>]"
            ]
          },
          "metadata": {
            "tags": []
          },
          "execution_count": 27
        },
        {
          "output_type": "display_data",
          "data": {
            "image/png": "[encoded data removed]",
            "text/plain": [
              "<Figure size 432x288 with 1 Axes>"
            ]
          },
          "metadata": {
            "tags": [],
            "needs_background": "light"
          }
        }
      ]
    },
    {
      "cell_type": "code",
      "metadata": {
        "colab": {
          "base_uri": "https://localhost:8080/"
        },
        "id": "WWGMAY8DtS4X",
        "outputId": "fe710ba3-f47c-450d-b405-9ba14ed343c6"
      },
      "source": [
        "names = ['X1 transaction date','X2 house age','X3 distance to the nearest MRT station','X4 number of convenience stores','X5 latitude','X6 longitude']\r\n",
        "X_train = data[names]\r\n",
        "X_train\r\n",
        "Y_train= data['Y house price of unit area']\r\n",
        "Y_train\r\n"
      ],
      "execution_count": 44,
      "outputs": [
        {
          "output_type": "execute_result",
          "data": {
            "text/plain": [
              "0      37.9\n",
              "1      42.2\n",
              "2      47.3\n",
              "3      54.8\n",
              "4      43.1\n",
              "       ... \n",
              "409    15.4\n",
              "410    50.0\n",
              "411    40.6\n",
              "412    52.5\n",
              "413    63.9\n",
              "Name: Y house price of unit area, Length: 414, dtype: float64"
            ]
          },
          "metadata": {
            "tags": []
          },
          "execution_count": 44
        }
      ]
    },
    {
      "cell_type": "code",
      "metadata": {
        "colab": {
          "base_uri": "https://localhost:8080/"
        },
        "id": "P4RbuQCX0U-7",
        "outputId": "b28fe297-73b4-4c61-ee7c-1001a9767c33"
      },
      "source": [
        "from sklearn.linear_model import LinearRegression\r\n",
        "reg = LinearRegression().fit(X_train,Y_train)\r\n",
        "\r\n"
      ],
      "execution_count": 53,
      "outputs": [
        {
          "output_type": "execute_result",
          "data": {
            "text/plain": [
              "array([ 5.14622746e+00, -2.69695448e-01, -4.48746107e-03,  1.13327690e+00,\n",
              "        2.25472976e+02, -1.24236012e+01])"
            ]
          },
          "metadata": {
            "tags": []
          },
          "execution_count": 53
        }
      ]
    },
    {
      "cell_type": "code",
      "metadata": {
        "colab": {
          "base_uri": "https://localhost:8080/"
        },
        "id": "QjJHnUy52BsJ",
        "outputId": "312d18f5-8e27-451d-c9f9-d0d2789c9bcc"
      },
      "source": [
        "reg.coef_"
      ],
      "execution_count": 54,
      "outputs": [
        {
          "output_type": "execute_result",
          "data": {
            "text/plain": [
              "array([ 5.14622746e+00, -2.69695448e-01, -4.48746107e-03,  1.13327690e+00,\n",
              "        2.25472976e+02, -1.24236012e+01])"
            ]
          },
          "metadata": {
            "tags": []
          },
          "execution_count": 54
        }
      ]
    },
    {
      "cell_type": "code",
      "metadata": {
        "colab": {
          "base_uri": "https://localhost:8080/"
        },
        "id": "uKS1_oA12AO7",
        "outputId": "7d175bce-d924-4bdf-d11c-dde2c54e4cbb"
      },
      "source": [
        "reg.intercept_"
      ],
      "execution_count": 55,
      "outputs": [
        {
          "output_type": "execute_result",
          "data": {
            "text/plain": [
              "-14437.100802278139"
            ]
          },
          "metadata": {
            "tags": []
          },
          "execution_count": 55
        }
      ]
    },
    {
      "cell_type": "code",
      "metadata": {
        "colab": {
          "base_uri": "https://localhost:8080/"
        },
        "id": "rWe_x3mC4KB_",
        "outputId": "5406e846-1a4f-44f6-8c75-accfc471b1dc"
      },
      "source": [
        "x_test = X_train\r\n",
        "y_predict=reg.predict(x_test)\r\n",
        "y_predict"
      ],
      "execution_count": 88,
      "outputs": [
        {
          "output_type": "execute_result",
          "data": {
            "text/plain": [
              "array([47.1689389 , 47.82573429, 48.79677789, 48.36964101, 46.13886467,\n",
              "       31.13584564, 38.61587363, 46.85211217,  9.16603868, 34.77290915,\n",
              "       33.57234765, 53.09676524, 40.81426207, 26.94175908, 45.60486371,\n",
              "       38.10925895, 50.74281482, 37.18549698, 46.73342273, 47.53381528,\n",
              "       35.27726629, 49.46841634, 28.83473867, 47.85745455, 34.85705632,\n",
              "       31.97023446, 46.14266672, 42.09675228, 42.74715351, 45.6877317 ,\n",
              "       13.30333363, 40.52337885, 30.63871176, 46.3959655 , 47.09156123,\n",
              "       33.19408286, 30.47381406, 30.84947324, 44.37062824, 45.87840415,\n",
              "       14.39995637, 16.50429405, 36.5591134 , 40.18913549, 47.67033493,\n",
              "       39.75218341, 46.77260072, 37.498337  , 12.6294391 ,  9.47655036,\n",
              "       41.79896601, 23.81663298, 34.86234689, 41.58762719, 45.47309058,\n",
              "       23.27524433, 43.40062271, 45.86319892, 13.52063193, 40.65937162,\n",
              "       34.01289788, 50.38387703, 29.69016815, 47.69730448, 33.19569059,\n",
              "       43.58378684, 47.0337209 , 47.08418389, 43.21229344, 45.15286365,\n",
              "       54.30241347, 35.03310145, 45.08136703, 15.20543727, 52.77691775,\n",
              "       32.48225835, 37.96185246, 28.37132844, 32.83403524, 28.07123075,\n",
              "       44.78896948, 37.86100484, 45.82221746, 24.61611573, 44.26336264,\n",
              "       49.35986917, 31.25565781, 16.90446138, 36.91305869, 16.47268166,\n",
              "       42.59419824, 38.58335361, 28.17437685, 23.60122166, 34.96992405,\n",
              "       44.21878101, 53.5020788 , 37.51677989, 47.11102192, 53.5020788 ,\n",
              "       44.70209776, 39.39880035, 47.43388824, 43.8320985 , 35.46822843,\n",
              "       48.59683797, 47.91075847, 31.64980791, 36.27683348, 36.79268667,\n",
              "       45.04608522, 44.9735491 , 33.95184656, 43.26435495, 43.39173728,\n",
              "       38.54774308,  1.28869657, 13.27337403, 33.82588955, 47.48421971,\n",
              "       42.0199103 , 43.65269541, 40.45876605, 44.0157988 , 47.05711988,\n",
              "       47.86617134, 35.24421939, 48.95413052, 37.13838997, 43.50191544,\n",
              "       44.82269898, 36.36554979, 40.52965964, 47.76014544, 36.67083254,\n",
              "       30.72957061, 43.98567692, 45.45084128, 38.38274752, 39.55467475,\n",
              "       46.30554103, 39.86427813, 41.9064357 , 43.65269541, 30.44415968,\n",
              "       46.18193518, 40.58326509, 47.0460578 , 15.52485675, 40.24211519,\n",
              "       40.48204436, 54.60890578, 31.703747  , 43.46461278, 16.4773245 ,\n",
              "       15.20543727, 26.7526556 , 42.23118235, 45.2182947 , 39.39274901,\n",
              "       47.22889432, 41.61149268, 12.86037981, 47.08418389, 41.01040197,\n",
              "       35.20504364, 51.6022348 , 45.39489213, 37.06885392, 30.91914963,\n",
              "       12.72370306, 48.14864962, 54.30241347, 37.30181551, 51.72630935,\n",
              "       35.95543305, 12.9668058 , 44.80389576, 45.76226923, 39.4355048 ,\n",
              "        9.22095423, 51.58423096, 33.80344304, 16.05610558, 21.86127648,\n",
              "       30.42560483, 29.98229023, 22.34767653, 42.30700947, 13.63889116,\n",
              "       43.8782201 , 39.26923236, 38.49980648, 48.40587153, 16.05093147,\n",
              "       40.01236888, 37.6832102 , 42.5779831 , 39.97086697, 46.44291762,\n",
              "       33.65494324, 47.99644322, 33.40611726, 43.46710768, 28.07123075,\n",
              "       37.15396984, 50.3373016 , 33.98243351, 28.83834411, 41.13278075,\n",
              "       49.5174593 , 43.8807551 , 37.48862488, 51.83717792, 35.57324382,\n",
              "       46.62233896, 32.3241297 , 41.37438877, 43.22555853, 42.37859516,\n",
              "       44.9465048 , 39.03746003, 49.06052741, 38.58335361, 41.9157219 ,\n",
              "       48.29330822, 13.61783957, 43.4517874 , 34.35596357, 27.15608561,\n",
              "       36.36554979, 13.05535249, 12.05702149, 44.36034853, 34.15484693,\n",
              "       43.46814562, 54.90444001, 38.1058019 , 37.72745789, 34.68623029,\n",
              "       33.35615404, 47.11205986, 33.91165013, 46.59718029, 38.6586299 ,\n",
              "       45.75076263, 43.76441871, 31.58325155, 31.12973794,  7.44286765,\n",
              "       39.64279738, 23.6936577 , 50.63152969, 26.00327121, 47.30442895,\n",
              "        8.79284089, 37.58622816, 39.39926443, 51.6022348 , 32.64813162,\n",
              "       37.3716589 , 29.78770168, 44.67275592, 35.96538246, 39.99881151,\n",
              "       40.19308368, 33.94045871, 36.62628654, 45.85397704, 32.24796429,\n",
              "       42.30729777, 44.00465161, 39.95484208, 42.26934946, 42.64682811,\n",
              "       47.53381528, 37.24686289, 31.18793846, 43.8320985 , 40.57232842,\n",
              "       48.034122  , 53.80342488, 31.63400182, 32.89158843, 43.43605842,\n",
              "       36.46078208, 51.0638128 , 37.21989335, 48.08265149, 47.35297743,\n",
              "       30.96500731, 45.45788536, 39.03384011, 42.79677063, 45.24509107,\n",
              "       30.68159718, 42.0644159 , 34.00227067, 15.27759423, 47.69159422,\n",
              "       45.25121606, 29.32885281, 31.42048679, 33.05608391, 34.64313888,\n",
              "       45.44612104, 42.36963036, 21.09397249, 47.11102192, 25.14684004,\n",
              "       32.05250613, 40.56683297, 44.72544395, 46.278703  , 47.20906159,\n",
              "       36.20348129, 45.93338117, 37.60624543, 54.83683974, 35.52224037,\n",
              "       12.01378671, 41.86366441, 40.16511165, 44.0670797 , 30.83774979,\n",
              "       39.75218341, 48.70163227, 44.64655539, 34.17512219, 13.27337403,\n",
              "       24.41918891, 12.52482228, 33.33712702, 43.41330011, 39.54192516,\n",
              "       41.98227808, 37.4555298 , 35.64821549, 42.12814176, 50.56999918,\n",
              "       34.51200705, 38.46375146, 49.83119502, 42.66209194, 28.36548641,\n",
              "       40.15612821, 34.48166403, 10.6143669 , 47.14013013, 43.41330011,\n",
              "       41.18745986, 32.84722811, 26.3869225 , 36.33858025, 32.08209102,\n",
              "       48.95413052, 39.96250874, 52.79240289, 47.86617134, 28.9885303 ,\n",
              "       45.63353915, 40.18318581, 44.3713182 , 49.70654385, 42.25359623,\n",
              "       30.14370403, 25.96320219, 30.60618923, 40.48318298, 27.59796331,\n",
              "       43.81333593, 44.90898301, 39.57069963, 43.8807551 , 48.17696334,\n",
              "       30.58023153, 34.13817805, 49.26184676, 40.52778808, 51.1699517 ,\n",
              "       47.29903835, 54.87289997, 13.86232622, 36.96993842, 12.83341026,\n",
              "       51.30410518, 41.01040197, 31.38377394, 34.52386807, 40.54519959,\n",
              "       44.87887237, 31.77536976, 38.17584062, 42.27928043, 15.96378269,\n",
              "       39.3607    , 27.95670762, 45.20469637, 34.13817805, 39.83108345,\n",
              "       40.90285743, 33.14182854, 39.35963075, 44.83116793, 46.67873882,\n",
              "       37.66055535, 49.61817907, 26.52329475, 31.97551893, 14.37298683,\n",
              "       49.85816456, 46.82840869, 44.61894834, 53.90224614])"
            ]
          },
          "metadata": {
            "tags": []
          },
          "execution_count": 88
        }
      ]
    },
    {
      "cell_type": "code",
      "metadata": {
        "colab": {
          "base_uri": "https://localhost:8080/",
          "height": 252
        },
        "id": "fPelU0iN7JuY",
        "outputId": "f4d5cdf0-c3eb-4383-9bac-f9358c86e568"
      },
      "source": [
        "plt.scatter(x,y,  color='black')\r\n",
        "plt.plot(y_predict, color='blue', linewidth=3)\r\n",
        "\r\n",
        "plt.xticks(())\r\n",
        "plt.yticks(())\r\n",
        "\r\n",
        "plt.show()"
      ],
      "execution_count": 86,
      "outputs": [
        {
          "output_type": "display_data",
          "data": {
            "image/png": "[encoded data removed]",
            "text/plain": [
              "<Figure size 432x288 with 1 Axes>"
            ]
          },
          "metadata": {
            "tags": []
          }
        }
      ]
    }
  ]
}